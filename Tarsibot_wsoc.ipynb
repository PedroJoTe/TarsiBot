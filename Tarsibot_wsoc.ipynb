{
 "cells": [
  {
   "cell_type": "code",
   "execution_count": 1,
   "metadata": {},
   "outputs": [
    {
     "name": "stdout",
     "output_type": "stream",
     "text": [
      "Menghubungi server... \n",
      "Terhubung di: http://87.50.23.250\n"
     ]
    }
   ],
   "source": [
    "import tarsiuswsoc\n",
    "\n",
    "#alamat = \"192.168.0.32\"\n",
    "alamat = \"87.50.23.250\"        # wajib\n",
    "nama =\"Pinrolinvic\"            # wajib\n",
    "\n",
    "# Connect to Tarsius Robot\n",
    "Robot = tarsiuswsoc.IoTLab(alamat, nama) # wajib"
   ]
  },
  {
   "cell_type": "code",
   "execution_count": 2,
   "metadata": {
    "scrolled": true
   },
   "outputs": [
    {
     "data": {
      "text/plain": [
       "'1'"
      ]
     },
     "execution_count": 2,
     "metadata": {},
     "output_type": "execute_result"
    }
   ],
   "source": [
    "Robot.USER   # wajib"
   ]
  },
  {
   "cell_type": "markdown",
   "metadata": {},
   "source": [
    "### Gerakan Maju"
   ]
  },
  {
   "cell_type": "code",
   "execution_count": 4,
   "metadata": {},
   "outputs": [],
   "source": [
    "Robot.MA_MA(10,10)  # Range na & nb : 0 - 100\n",
    "Robot.Jedah(0.2)    # Second, detik\n",
    "\n",
    "Robot.ST_ST         # FUngsi Stop"
   ]
  },
  {
   "cell_type": "markdown",
   "metadata": {},
   "source": [
    "###### JArak = Kecepatan x Waktu  -->>     $ s = v * t$"
   ]
  },
  {
   "cell_type": "markdown",
   "metadata": {},
   "source": [
    "### Gerakan Mundur"
   ]
  },
  {
   "cell_type": "code",
   "execution_count": 5,
   "metadata": {},
   "outputs": [],
   "source": [
    "Robot.MU_MU(10,10)\n",
    "Robot.Jedah(0.2)\n",
    "\n",
    "Robot.ST_ST"
   ]
  },
  {
   "cell_type": "markdown",
   "metadata": {},
   "source": [
    "### Gerakan Pivot Kiri"
   ]
  },
  {
   "cell_type": "code",
   "execution_count": 6,
   "metadata": {},
   "outputs": [],
   "source": [
    "Robot.MU_MA(10, 10)\n",
    "Robot.Jedah(0.2)\n",
    "Robot.ST_ST\n"
   ]
  },
  {
   "cell_type": "markdown",
   "metadata": {},
   "source": [
    "### Gerakan Pivot Kanan"
   ]
  },
  {
   "cell_type": "code",
   "execution_count": 7,
   "metadata": {},
   "outputs": [],
   "source": [
    "Robot.MA_MU(10,10)\n",
    "Robot.Jedah(0.2)\n",
    "Robot.ST_ST"
   ]
  },
  {
   "cell_type": "markdown",
   "metadata": {},
   "source": [
    "### Gerakan curve Kiri"
   ]
  },
  {
   "cell_type": "code",
   "execution_count": 8,
   "metadata": {},
   "outputs": [],
   "source": [
    "Robot.ST_MA(10,10)\n",
    "Robot.Jedah(0.2)\n",
    "Robot.ST_ST"
   ]
  },
  {
   "cell_type": "code",
   "execution_count": 9,
   "metadata": {},
   "outputs": [],
   "source": [
    "Robot.ST_MA(10,10)\n",
    "Robot.Jedah(0.4)\n",
    "Robot.ST_ST"
   ]
  },
  {
   "cell_type": "markdown",
   "metadata": {},
   "source": [
    "### Gerakan Curve Kanan"
   ]
  },
  {
   "cell_type": "code",
   "execution_count": 10,
   "metadata": {},
   "outputs": [],
   "source": [
    "Robot.MA_ST(10,10)\n",
    "Robot.Jedah(0.2)\n",
    "Robot.ST_ST"
   ]
  },
  {
   "cell_type": "code",
   "execution_count": 11,
   "metadata": {},
   "outputs": [],
   "source": [
    "Robot.MA_ST(10,10)\n",
    "Robot.Jedah(0.4)\n",
    "Robot.ST_ST"
   ]
  },
  {
   "cell_type": "code",
   "execution_count": null,
   "metadata": {},
   "outputs": [],
   "source": [
    "Robot.MU_ST(10,10)\n",
    "Robot.Jedah(0.4)\n",
    "Robot.ST_ST"
   ]
  },
  {
   "cell_type": "markdown",
   "metadata": {},
   "source": [
    "### Gerakan Curve Kombinasi"
   ]
  },
  {
   "cell_type": "code",
   "execution_count": 12,
   "metadata": {},
   "outputs": [],
   "source": [
    "Robot.ST_MA(10,10) # Curve kiri\n",
    "Robot.Jedah(0.3)\n",
    "Robot.ST_ST\n",
    "\n",
    "Robot.Jedah(0.3)\n",
    "\n",
    "Robot.MA_ST(50,50) # Curve kanan\n",
    "Robot.Jedah(0.3)\n",
    "Robot.ST_ST\n"
   ]
  },
  {
   "cell_type": "code",
   "execution_count": 13,
   "metadata": {},
   "outputs": [],
   "source": [
    "Robot.MA_MA(10,10) # Maju\n",
    "Robot.Jedah(0.3)\n",
    "Robot.ST_ST\n",
    "\n",
    "Robot.Jedah(0.3)\n",
    "\n",
    "Robot.MA_ST(10,10) # Curve kanan\n",
    "Robot.Jedah(0.3)\n",
    "Robot.ST_ST"
   ]
  },
  {
   "cell_type": "code",
   "execution_count": 15,
   "metadata": {},
   "outputs": [],
   "source": [
    "Robot.MA_ST(10,10)  # Curve kanan\n",
    "Robot.Jedah(0.4)\n",
    "Robot.ST_ST\n",
    "Robot.Jedah(0.4)\n",
    "Robot.MU_ST(10,10) # Curve Mundur\n",
    "Robot.Jedah(0.4)\n",
    "Robot.ST_ST"
   ]
  },
  {
   "cell_type": "code",
   "execution_count": 16,
   "metadata": {},
   "outputs": [],
   "source": [
    "Robot.MA_MA(10,10)  # Maju\n",
    "Robot.Jedah(0.3)\n",
    "Robot.ST_ST\n",
    "\n",
    "Robot.Jedah(0.3)\n",
    "\n",
    "Robot.MA_ST(10,10) # Curve kanan\n",
    "Robot.Jedah(0.3)\n",
    "Robot.ST_ST\n",
    "\n",
    "Robot.Jedah(0.3)\n",
    "\n",
    "Robot.MU_ST(10,10) # Curve Mundur\n",
    "Robot.Jedah(0.3)\n",
    "Robot.ST_ST\n",
    "\n",
    "Robot.Jedah(0.3)\n",
    "\n",
    "Robot.MU_MU(10,10) # Mundur\n",
    "Robot.Jedah(0.3)\n",
    "Robot.ST_ST\n"
   ]
  },
  {
   "cell_type": "code",
   "execution_count": 17,
   "metadata": {},
   "outputs": [],
   "source": [
    "Robot.MA_MA(10,10)  # Maju\n",
    "Robot.Jedah(0.3)\n",
    "Robot.ST_ST\n",
    "\n",
    "Robot.Jedah(0.3)\n",
    "\n",
    "Robot.MA_ST(10,10) # Curve kanan\n",
    "Robot.Jedah(0.3)\n",
    "Robot.ST_ST\n",
    "\n",
    "Robot.Jedah(0.3)\n",
    "\n",
    "Robot.ST_MU(10,10) # Mundur Curve kiri\n",
    "Robot.Jedah(0.35)\n",
    "Robot.ST_ST\n",
    "\n",
    "\n",
    "Robot.Jedah(0.3)\n",
    "\n",
    "Robot.MA_MA(10,10) # Curve kanan\n",
    "Robot.Jedah(0.4)\n",
    "Robot.ST_ST"
   ]
  },
  {
   "cell_type": "code",
   "execution_count": 18,
   "metadata": {},
   "outputs": [],
   "source": [
    "#Tutup Koneksi ke robot\n",
    "Robot.tutup()  # wajib"
   ]
  },
  {
   "cell_type": "code",
   "execution_count": null,
   "metadata": {},
   "outputs": [],
   "source": [
    "https://pypi.org/project/websocket_client/"
   ]
  }
 ],
 "metadata": {
  "kernelspec": {
   "display_name": "Python 3",
   "language": "python",
   "name": "python3"
  },
  "language_info": {
   "codemirror_mode": {
    "name": "ipython",
    "version": 3
   },
   "file_extension": ".py",
   "mimetype": "text/x-python",
   "name": "python",
   "nbconvert_exporter": "python",
   "pygments_lexer": "ipython3",
   "version": "3.7.5"
  }
 },
 "nbformat": 4,
 "nbformat_minor": 2
}
